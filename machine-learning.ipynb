{
 "cells": [
  {
   "cell_type": "code",
   "execution_count": null,
   "id": "d888fb05",
   "metadata": {},
   "outputs": [
    {
     "data": {
      "text/plain": [
       "array([[ 1, -1,  2],\n",
       "       [ 3,  2,  2],\n",
       "       [ 4,  1,  2],\n",
       "       [ 7,  5,  6]])"
      ]
     },
     "execution_count": 2,
     "metadata": {},
     "output_type": "execute_result"
    }
   ],
   "source": [
    "import numpy as np\n",
    "\n",
    "# 4x3 행렬\n",
    "A = np.array([\n",
    "  [1, -1, 2],\n",
    "  [3, 2, 2],\n",
    "  [4, 1, 2],\n",
    "  [7, 5, 6]\n",
    "])\n",
    "\n",
    "A"
   ]
  },
  {
   "cell_type": "code",
   "execution_count": 4,
   "id": "01e98917",
   "metadata": {},
   "outputs": [
    {
     "data": {
      "text/plain": [
       "array([[ 1, -1],\n",
       "       [ 3,  2],\n",
       "       [ 4,  1]])"
      ]
     },
     "execution_count": 4,
     "metadata": {},
     "output_type": "execute_result"
    }
   ],
   "source": [
    "# 3x2 행렬\n",
    "B = np.array([\n",
    "  [1, -1],\n",
    "  [3, 2],\n",
    "  [4, 1]\n",
    "])\n",
    "\n",
    "B"
   ]
  },
  {
   "cell_type": "code",
   "execution_count": null,
   "id": "bdeff3f7",
   "metadata": {},
   "outputs": [
    {
     "data": {
      "text/plain": [
       "array([[0.07946176, 0.00546   , 0.01111354, 0.90186593, 0.84312236],\n",
       "       [0.82483571, 0.92854251, 0.71669588, 0.20484808, 0.37944746],\n",
       "       [0.21405866, 0.3482116 , 0.33465978, 0.04828647, 0.0543368 ]])"
      ]
     },
     "execution_count": 6,
     "metadata": {},
     "output_type": "execute_result"
    }
   ],
   "source": [
    "# 랜덤값을 행렬값으로 만드는 방법 MxN\n",
    "C = np.random.rand(3, 5)\n",
    "C"
   ]
  },
  {
   "cell_type": "code",
   "execution_count": 9,
   "id": "f4cb2a05",
   "metadata": {},
   "outputs": [
    {
     "data": {
      "text/plain": [
       "array([[0., 0., 0., 0.],\n",
       "       [0., 0., 0., 0.]])"
      ]
     },
     "execution_count": 9,
     "metadata": {},
     "output_type": "execute_result"
    }
   ],
   "source": [
    "# 0으로만 이루어진 MxN행렬\n",
    "D = np.zeros((2, 4))\n",
    "D"
   ]
  },
  {
   "cell_type": "code",
   "execution_count": 12,
   "id": "9df0ba1f",
   "metadata": {},
   "outputs": [
    {
     "data": {
      "text/plain": [
       "np.int64(2)"
      ]
     },
     "execution_count": 12,
     "metadata": {},
     "output_type": "execute_result"
    }
   ],
   "source": [
    "A[0][2]"
   ]
  },
  {
   "cell_type": "code",
   "execution_count": 22,
   "id": "e12d45fd",
   "metadata": {},
   "outputs": [
    {
     "data": {
      "text/plain": [
       "np.int64(2)"
      ]
     },
     "execution_count": 22,
     "metadata": {},
     "output_type": "execute_result"
    }
   ],
   "source": [
    "# 1: 행렬 A를 정의해보세요\n",
    "A = np.array([\n",
    "[ 0,  1, -1],\n",
    " [ 1,  2,  3],\n",
    " [ 2,  1,  0],\n",
    " [-1,  2,  -4]\n",
    " ])\n",
    "\n",
    "# 2: 행렬 B를 정의해보세요\n",
    "B = np.array([\n",
    " [ 0 , 2],\n",
    " [ 1 , 1],\n",
    " [-1, -2]\n",
    "])\n",
    "\n",
    "A[1][1]\n",
    "A[3][1]"
   ]
  },
  {
   "cell_type": "code",
   "execution_count": null,
   "id": "bec9cdfe",
   "metadata": {},
   "outputs": [],
   "source": [
    "A = np.array([\n",
    "  \n",
    "[\n",
    "1\n",
    "2\n",
    "−\n",
    "1\n",
    "1\n",
    "1\n",
    "−\n",
    "3\n",
    "]\n",
    "+\n",
    "[\n",
    "3\n",
    "2\n",
    "−\n",
    "2\n",
    "−\n",
    "1\n",
    "2\n",
    "1\n",
    "]\n",
    "=\n",
    "[\n",
    "a\n",
    "11\n",
    "a\n",
    "12\n",
    "a\n",
    "13\n",
    "a\n",
    "21\n",
    "a\n",
    "22\n",
    "a\n",
    "23\n",
    "]\n",
    "[ \n",
    "1\n",
    "1\n",
    "​\n",
    "  \n",
    "2\n",
    "1\n",
    "​\n",
    "  \n",
    "−1\n",
    "−3\n",
    "​\n",
    " ]\n",
    "])"
   ]
  }
 ],
 "metadata": {
  "kernelspec": {
   "display_name": "base",
   "language": "python",
   "name": "python3"
  },
  "language_info": {
   "codemirror_mode": {
    "name": "ipython",
    "version": 3
   },
   "file_extension": ".py",
   "mimetype": "text/x-python",
   "name": "python",
   "nbconvert_exporter": "python",
   "pygments_lexer": "ipython3",
   "version": "3.13.5"
  }
 },
 "nbformat": 4,
 "nbformat_minor": 5
}
