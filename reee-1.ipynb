{
 "cells": [
  {
   "cell_type": "code",
   "execution_count": 9,
   "id": "8be31b23",
   "metadata": {},
   "outputs": [
    {
     "name": "stdout",
     "output_type": "stream",
     "text": [
      "hello world! jupyter\n"
     ]
    }
   ],
   "source": [
    "print('hello world! jupyter')"
   ]
  },
  {
   "cell_type": "code",
   "execution_count": 10,
   "id": "d5b211f1",
   "metadata": {},
   "outputs": [
    {
     "name": "stdout",
     "output_type": "stream",
     "text": [
      "my first project!\n"
     ]
    }
   ],
   "source": [
    "print('my first project!')"
   ]
  },
  {
   "cell_type": "code",
   "execution_count": 11,
   "id": "1493eee3",
   "metadata": {},
   "outputs": [
    {
     "name": "stdout",
     "output_type": "stream",
     "text": [
      "5\n",
      "10\n"
     ]
    }
   ],
   "source": [
    "# 같은 세션에 있으면 선언된 함수나 변수를 사용할 수 있다.\n",
    "x = 5\n",
    "y = 10\n",
    "print(x)\n",
    "print(y)"
   ]
  },
  {
   "cell_type": "code",
   "execution_count": 12,
   "id": "e83fb381",
   "metadata": {},
   "outputs": [
    {
     "name": "stdout",
     "output_type": "stream",
     "text": [
      "50\n"
     ]
    }
   ],
   "source": [
    "print(x * y)"
   ]
  },
  {
   "cell_type": "code",
   "execution_count": 13,
   "id": "d2ebf333",
   "metadata": {},
   "outputs": [
    {
     "name": "stdout",
     "output_type": "stream",
     "text": [
      "5\n",
      "10\n"
     ]
    }
   ],
   "source": [
    "print(x)\n",
    "print(y)"
   ]
  },
  {
   "cell_type": "code",
   "execution_count": 14,
   "id": "be0ba211",
   "metadata": {},
   "outputs": [
    {
     "data": {
      "text/plain": [
       "10"
      ]
     },
     "execution_count": 14,
     "metadata": {},
     "output_type": "execute_result"
    }
   ],
   "source": [
    "# 맨 마지막 줄에 결과값만 화면에 노출됨\n",
    "x\n",
    "y"
   ]
  },
  {
   "cell_type": "code",
   "execution_count": 15,
   "id": "de84fdad",
   "metadata": {},
   "outputs": [],
   "source": [
    "y = 15\n",
    "z = 30"
   ]
  },
  {
   "cell_type": "markdown",
   "id": "6bb9c993",
   "metadata": {},
   "source": [
    "데이터 사이언스"
   ]
  },
  {
   "cell_type": "markdown",
   "id": "ec81f578",
   "metadata": {},
   "source": [
    "# 마크다운은 글을 깔끔하게 작성해주는 방법"
   ]
  },
  {
   "cell_type": "code",
   "execution_count": 1,
   "id": "18808434",
   "metadata": {},
   "outputs": [],
   "source": [
    "# 데이터 사이언스 다양한 각도로 살펴보고 데이터를 인사이트를 찾아내는 작업\n",
    "# NumPy = Numerical Python : 수치적인 연산에 최척화된 파이썬 도구\n",
    "# Numpy Array = Python List\n",
    "# 메모리 최적화, 연산 최적화가 되어있다.\n",
    "import numpy as np"
   ]
  },
  {
   "cell_type": "code",
   "execution_count": null,
   "id": "ff33bd64",
   "metadata": {},
   "outputs": [
    {
     "data": {
      "text/plain": [
       "array([[2, 3, 5, 6, 7],\n",
       "       [2, 3, 5, 6, 7],\n",
       "       [2, 3, 5, 6, 7]])"
      ]
     },
     "execution_count": 8,
     "metadata": {},
     "output_type": "execute_result"
    }
   ],
   "source": [
    "array1 = np.array([1,3,5,7,9,11])\n",
    "# 다차원 array\n",
    "array2 = np.array([[2,3,5,6,7], [2,3,5,6,7], [2,3,5,6,7]])\n",
    "array3 = np.zeros(5)\n",
    "array4 = np.arange(10)\n",
    "array2"
   ]
  },
  {
   "cell_type": "code",
   "execution_count": 11,
   "id": "94e7290d",
   "metadata": {},
   "outputs": [
    {
     "data": {
      "text/plain": [
       "6"
      ]
     },
     "execution_count": 11,
     "metadata": {},
     "output_type": "execute_result"
    }
   ],
   "source": [
    "array1.size"
   ]
  },
  {
   "cell_type": "code",
   "execution_count": 14,
   "id": "6c31665f",
   "metadata": {},
   "outputs": [
    {
     "data": {
      "text/plain": [
       "(3, 5)"
      ]
     },
     "execution_count": 14,
     "metadata": {},
     "output_type": "execute_result"
    }
   ],
   "source": [
    "array2.size\n",
    "# 모양을 알려주는 변수: x * y의 다차원 array 갯수\n",
    "array2.shape"
   ]
  },
  {
   "cell_type": "code",
   "execution_count": 30,
   "id": "f7e20e07",
   "metadata": {},
   "outputs": [
    {
     "data": {
      "text/plain": [
       "array([2875, 4703, 4339])"
      ]
     },
     "execution_count": 30,
     "metadata": {},
     "output_type": "execute_result"
    }
   ],
   "source": [
    "gdp_array = np.array([6610, 7637, 8127, 8885, 10385, 12565, 13403, 12398, 8282, 10672])\n",
    "bitcoin_array = np.array([970, 1180, 1072, 1348, 2286, 2481,\n",
    "                          2875, 4703, 4339, 6468, 10234, 14156])\n",
    "\n",
    "bitcoin_array[[6,7,8]]\n",
    "bitcoin_array[6:9]"
   ]
  },
  {
   "cell_type": "code",
   "execution_count": 34,
   "id": "93984c10",
   "metadata": {},
   "outputs": [
    {
     "data": {
      "text/plain": [
       "array([39169, 34406, 32821, 35387, 38299, 37813])"
      ]
     },
     "execution_count": 34,
     "metadata": {},
     "output_type": "execute_result"
    }
   ],
   "source": [
    "# 세로줄 row, 가로줄 colum\n",
    "gdp_array = np.array([\n",
    "    [12257, 11561, 13165, 14673, 16496, 19403],  # 대한민국\n",
    "    [39169, 34406, 32821, 35387, 38299, 37813],  # 일본\n",
    "    [959, 1053, 1149, 1289, 1509, 1753],         # 중국\n",
    "    [36335, 37133, 38023, 39496, 41713, 44115]   # 미국\n",
    "])\n",
    "\n",
    "gdp_array[1]"
   ]
  },
  {
   "cell_type": "code",
   "execution_count": 37,
   "id": "7b9dfb8d",
   "metadata": {},
   "outputs": [
    {
     "data": {
      "text/plain": [
       "np.int64(35387)"
      ]
     },
     "execution_count": 37,
     "metadata": {},
     "output_type": "execute_result"
    }
   ],
   "source": [
    "gdp_array[1][3]\n",
    "gdp_array[1,3]"
   ]
  },
  {
   "cell_type": "code",
   "execution_count": 46,
   "id": "b01010b0",
   "metadata": {},
   "outputs": [
    {
     "data": {
      "text/plain": [
       "array([[13165, 14673, 16496],\n",
       "       [32821, 35387, 38299],\n",
       "       [ 1149,  1289,  1509]])"
      ]
     },
     "execution_count": 46,
     "metadata": {},
     "output_type": "execute_result"
    }
   ],
   "source": [
    "# 앞쪽은 row 뒷쪽은 컬럼\n",
    "gdp_array[:, 2:5]\n",
    "gdp_array[:3, 2:5]"
   ]
  },
  {
   "cell_type": "code",
   "execution_count": 52,
   "id": "11c5962b",
   "metadata": {},
   "outputs": [
    {
     "data": {
      "text/plain": [
       "np.int64(3262)"
      ]
     },
     "execution_count": 52,
     "metadata": {},
     "output_type": "execute_result"
    }
   ],
   "source": [
    "bitcoin_array = np.array([[970, 1180, 1072, 1348, 2286, 2481,\n",
    "\t\t\t\t\t\t   2875, 4703, 4339, 6468, 10234, 14156],\n",
    "\t\t\t\t\t\t  [514, 428, 1087, 976, 3426, 4448,\n",
    "\t\t\t\t\t\t   3262, 6355, 5570, 5801, 14074, 41034]])\n",
    "\n",
    "bitcoin_array[1][6]\n",
    "bitcoin_array[1:, 6][0]"
   ]
  },
  {
   "cell_type": "code",
   "execution_count": null,
   "id": "162c04b5",
   "metadata": {},
   "outputs": [
    {
     "data": {
      "text/plain": [
       "array([False, False, False, False,  True,  True,  True,  True, False,\n",
       "        True])"
      ]
     },
     "execution_count": 54,
     "metadata": {},
     "output_type": "execute_result"
    }
   ],
   "source": [
    "# array bools 인덱스 or mask\n",
    "gdp_array = np.array([6610, 7637, 8127, 8885, 10385, 12565, 13403, 12398, 8282, 10672])\n",
    "\n",
    "gdp_array > 10000"
   ]
  },
  {
   "cell_type": "code",
   "execution_count": 56,
   "id": "0b04d46c",
   "metadata": {},
   "outputs": [
    {
     "data": {
      "text/plain": [
       "array([10385, 12565, 13403, 12398, 10672])"
      ]
     },
     "execution_count": 56,
     "metadata": {},
     "output_type": "execute_result"
    }
   ],
   "source": [
    "# True가 있는 인덱스만 받아와서 넣어준다.\n",
    "mask = gdp_array > 10000\n",
    "gdp_array[mask]"
   ]
  },
  {
   "cell_type": "code",
   "execution_count": 60,
   "id": "a55ef5eb",
   "metadata": {},
   "outputs": [
    {
     "data": {
      "text/plain": [
       "array([ 6610,  7637, 10385, 12565, 13403, 12398, 10672])"
      ]
     },
     "execution_count": 60,
     "metadata": {},
     "output_type": "execute_result"
    }
   ],
   "source": [
    "mask = (gdp_array > 10000) | (gdp_array < 8000)\n",
    "gdp_array[mask]"
   ]
  },
  {
   "cell_type": "code",
   "execution_count": null,
   "id": "780ba531",
   "metadata": {},
   "outputs": [
    {
     "data": {
      "text/plain": [
       "array([  1,   2,   3,   4,   5,   6,   7,   8,   9,  10,  11,  12,  13,\n",
       "        14,  15,  16,  17,  18,  19,  20,  21,  22,  23,  24,  25,  26,\n",
       "        27,  28,  29,  30,  31,  32,  33,  34,  35,  36,  37,  38,  39,\n",
       "        40,  41,  42,  43,  44,  45,  46,  47,  48,  49,  50,  51,  52,\n",
       "        53,  54,  55,  56,  57,  58,  59,  60,  61,  62,  63,  64,  65,\n",
       "        66,  67,  68,  69,  70,  71,  72,  73,  74,  75,  76,  77,  78,\n",
       "        79,  80,  81,  82,  83,  84,  85,  86,  87,  88,  89,  90,  91,\n",
       "        92,  93,  94,  95,  96,  97,  98,  99, 100])"
      ]
     },
     "execution_count": 66,
     "metadata": {},
     "output_type": "execute_result"
    }
   ],
   "source": [
    "# 1부터 100까지 숫자가 들어 있는 numbers_array에서 짝수에 해당하는 숫자들만 뽑아 보세요!\n",
    "# arange: 1 ~ 100까지 만들어주는 함수\n",
    "numbers_array = np.arange(1, 101)\n",
    "numbers_array[numbers_array % 2 == 0]\n",
    "numbers_array\n"
   ]
  }
 ],
 "metadata": {
  "kernelspec": {
   "display_name": "base",
   "language": "python",
   "name": "python3"
  },
  "language_info": {
   "codemirror_mode": {
    "name": "ipython",
    "version": 3
   },
   "file_extension": ".py",
   "mimetype": "text/x-python",
   "name": "python",
   "nbconvert_exporter": "python",
   "pygments_lexer": "ipython3",
   "version": "3.13.5"
  }
 },
 "nbformat": 4,
 "nbformat_minor": 5
}
